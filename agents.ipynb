{
 "cells": [
  {
   "cell_type": "markdown",
   "id": "3835ff09-05b2-4023-b225-8fb2da61b558",
   "metadata": {},
   "source": [
    "# Agentic Systems\n",
    "***\n",
    "This is an experimental sandbox notebook to test/showcase ideas proposed in *Anthropic's* [Building Effective AI Agents](https://www.anthropic.com/engineering/building-effective-agents) blog post.\n",
    "\n",
    "We will use the [Gemini Developer API](https://ai.google.dev/gemini-api/docs), see [*notebook*](./notebook.ipynb) file in this repo for reference.\n",
    "\n",
    "Each subsection will contain a demo implementing a basic version of the concepts in the blog post."
   ]
  },
  {
   "cell_type": "markdown",
   "id": "604721b0-9b97-4bb9-b5d9-82312c018f48",
   "metadata": {},
   "source": [
    "## Definitions"
   ]
  },
  {
   "cell_type": "markdown",
   "id": "b5430f4c-9522-4656-a5e7-e1d392c3beac",
   "metadata": {},
   "source": [
    "Agentic systems fall into two architecturally distinct categories:\n",
    "\n",
    "* **Workflows** are systems where LLMs and tools are orchestrated through predefined code paths.\n",
    "* **Agents** are systems where LLMs dynamically direct their own processes and tool usage, maintaining control over how they accomplish tasks."
   ]
  },
  {
   "cell_type": "markdown",
   "id": "7d5f8fca-c556-483f-9aed-f73c83e9a9f2",
   "metadata": {},
   "source": [
    "## Workflows"
   ]
  },
  {
   "cell_type": "markdown",
   "id": "0723742c-5bc1-464d-a74d-77399c4f5c27",
   "metadata": {},
   "source": [
    "### Prompt Chaining"
   ]
  },
  {
   "cell_type": "markdown",
   "id": "dfcc988c-45b4-4a3b-ab69-c0b594b93264",
   "metadata": {},
   "source": [
    "**Demo Idea: “Multi-step Recipe Creator”**\n",
    "\n",
    "  - **Description**:\n",
    "\n",
    "    Create a demo where the system first generates a creative recipe title and a list of ingredients. Then, using that output, it produces detailed cooking instructions. Finally, it might generate a shopping list or nutritional summary.\n",
    "\n",
    "\n",
    "  - **How to Do It**:\n",
    "\n",
    "    * Step 1: Use Gemini’s text generation to create a recipe title and ingredients list. Utilize structured outputs (with pydantic) to capture the output in a defined format.\n",
    "    * Step 2: Feed the output of Step 1 into a second Gemini call that generates step-by-step instructions.\n",
    "    * Step 3: Optionally, add another cell where the Gemini API creates a shopping list or even a simple plot (via the built-in code execution tool) showing estimated nutritional information."
   ]
  },
  {
   "cell_type": "markdown",
   "id": "b8d74794-2566-4fa1-bd74-10ca79a99f70",
   "metadata": {},
   "source": [
    "## Mermaid Test\n",
    "\n",
    "```mermaid\n",
    "graph LR\n",
    "    In((In)) --> LLM1[\"LLM Call 1\"]\n",
    "    LLM1 --> Gate[Gate]\n",
    "    Gate -->|Pass| LLM2[\"LLM Call 2\"]\n",
    "    Gate -->|Fail| Exit((Exit))\n",
    "    LLM2 --> LLM3[\"LLM Call 3\"]\n",
    "    LLM3 --> Out((Out))\n"
   ]
  },
  {
   "cell_type": "markdown",
   "id": "3cfab16a-02db-4f28-82ef-793a37e83073",
   "metadata": {},
   "source": [
    "### Routing"
   ]
  },
  {
   "cell_type": "code",
   "execution_count": null,
   "id": "79a4bc5b-697e-4c96-b8f5-bffa516dbac7",
   "metadata": {},
   "outputs": [],
   "source": []
  },
  {
   "cell_type": "markdown",
   "id": "43cad830-48b0-4f65-b7b3-47e47c6cc484",
   "metadata": {},
   "source": [
    "### Parallelization"
   ]
  },
  {
   "cell_type": "code",
   "execution_count": null,
   "id": "bb4d635b-4815-4b41-8cdd-72a9e27d477e",
   "metadata": {},
   "outputs": [],
   "source": []
  },
  {
   "cell_type": "markdown",
   "id": "5a444c7d-f8b1-4ecc-abf7-a8d85c3b66bd",
   "metadata": {},
   "source": [
    "### Orchestrator-Workers Demo,"
   ]
  },
  {
   "cell_type": "code",
   "execution_count": null,
   "id": "254f8b57-ba54-4d73-8463-6510a0454f85",
   "metadata": {},
   "outputs": [],
   "source": []
  },
  {
   "cell_type": "markdown",
   "id": "3ffb79c7-f71e-4252-b112-c7527d897623",
   "metadata": {},
   "source": [
    "### Evaluator-Optimizer Demo"
   ]
  },
  {
   "cell_type": "code",
   "execution_count": null,
   "id": "076baeaa-46f0-4f4e-9e17-112ebcbefe75",
   "metadata": {},
   "outputs": [],
   "source": []
  },
  {
   "cell_type": "markdown",
   "id": "05615d9a-8d79-423a-bdc1-4127ce79b645",
   "metadata": {},
   "source": [
    "## Autonomous Agents"
   ]
  },
  {
   "cell_type": "code",
   "execution_count": null,
   "id": "c15aa030-7358-4225-93c8-ffb7f059ba5c",
   "metadata": {},
   "outputs": [],
   "source": []
  },
  {
   "cell_type": "markdown",
   "id": "b065681e-de07-41ff-8038-1b9c80762f47",
   "metadata": {},
   "source": [
    "## Conclusion"
   ]
  },
  {
   "cell_type": "markdown",
   "id": "cb426624-aad1-4e66-aef4-05c3a0a05b95",
   "metadata": {},
   "source": [
    "Summarize the learnings from the demos, discuss potential improvements, and provide pointers on how these patterns can be combined for more complex real-world applications."
   ]
  },
  {
   "cell_type": "code",
   "execution_count": null,
   "id": "aeb58ef4-6bf5-4637-a251-1837e6a91977",
   "metadata": {},
   "outputs": [],
   "source": []
  }
 ],
 "metadata": {
  "kernelspec": {
   "display_name": "Python 3 (ipykernel)",
   "language": "python",
   "name": "python3"
  },
  "language_info": {
   "codemirror_mode": {
    "name": "ipython",
    "version": 3
   },
   "file_extension": ".py",
   "mimetype": "text/x-python",
   "name": "python",
   "nbconvert_exporter": "python",
   "pygments_lexer": "ipython3",
   "version": "3.12.3"
  }
 },
 "nbformat": 4,
 "nbformat_minor": 5
}
